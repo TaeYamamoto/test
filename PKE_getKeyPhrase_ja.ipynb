{
  "nbformat": 4,
  "nbformat_minor": 0,
  "metadata": {
    "colab": {
      "name": "PKE_getKeyPhrase_ja.ipynb",
      "provenance": [],
      "authorship_tag": "ABX9TyOpDMuUgS3/7qcJpFXFrZGo",
      "include_colab_link": true
    },
    "kernelspec": {
      "name": "python3",
      "display_name": "Python 3"
    },
    "language_info": {
      "name": "python"
    }
  },
  "cells": [
    {
      "cell_type": "markdown",
      "metadata": {
        "id": "view-in-github",
        "colab_type": "text"
      },
      "source": [
        "<a href=\"https://colab.research.google.com/github/TaeYamamoto/test/blob/main/PKE_getKeyPhrase_ja.ipynb\" target=\"_parent\"><img src=\"https://colab.research.google.com/assets/colab-badge.svg\" alt=\"Open In Colab\"/></a>"
      ]
    },
    {
      "cell_type": "markdown",
      "source": [
        "【日本語版】PKE + キーフレーズ抽出"
      ],
      "metadata": {
        "id": "dkmtyusAICNM"
      }
    },
    {
      "cell_type": "code",
      "source": [
        "!pip install textacy"
      ],
      "metadata": {
        "id": "GLKAj46EIgOF"
      },
      "execution_count": null,
      "outputs": []
    },
    {
      "cell_type": "code",
      "execution_count": null,
      "metadata": {
        "id": "j-bMvciiIAYt"
      },
      "outputs": [],
      "source": [
        "!python -m spacy download ja_core_news_sm"
      ]
    },
    {
      "cell_type": "code",
      "source": [
        "!pip install git+https://github.com/boudinfl/pke.git"
      ],
      "metadata": {
        "id": "T3OrTJatJRuY"
      },
      "execution_count": null,
      "outputs": []
    },
    {
      "cell_type": "code",
      "source": [
        "import pke \n",
        "from pke.unsupervised import MultipartiteRank, PositionRank, TopicRank"
      ],
      "metadata": {
        "id": "ewQ8a0hXIVvq"
      },
      "execution_count": 9,
      "outputs": []
    },
    {
      "cell_type": "code",
      "source": [
        "# テキスト取得\n",
        "with open(\"text_ja.txt\", \"r\") as file:\n",
        "    data = file.read().replace(\"\\n\", \"\")\n",
        "article = data.replace(u\"\\xa0\", u\" \") # ノーブレークスペース削除"
      ],
      "metadata": {
        "id": "P2lxuDF6Kj8D"
      },
      "execution_count": 20,
      "outputs": []
    },
    {
      "cell_type": "code",
      "source": [
        "print(article)\n",
        "print(type(article))"
      ],
      "metadata": {
        "colab": {
          "base_uri": "https://localhost:8080/"
        },
        "id": "wbWx8yfFMFJt",
        "outputId": "78a9032a-3a59-48a5-9ef4-f9c5955e0ba1"
      },
      "execution_count": 8,
      "outputs": [
        {
          "output_type": "stream",
          "name": "stdout",
          "text": [
            "富士山パーキングまで車で、そこからは富士急行バスで5合目まで。6時半5合目着。吉田ルート5合目から山頂まで4時間30分でした(休憩含む)。高山病が怖かったですが、前日はしっかりと休息し、適度に休憩を入れれば問題なさそうです。以下は装備ですが、最低限で登りたい方の参考になれば↓ランニングシューズ、スポート系のウェア着用、上着厚薄2着、百均のカッパ、充電器、おにぎり4個、パン2個、スポーツドリンク2.5L、チョコレート、のような感じです。上は10度切りますので防寒対策は万全に、手袋もあった方がいいと思います。水は1.5〜2Lくらいで大丈夫だと思います。ランニングシューズだと結構滑りますので注意を。最低限の準備をすれば登れますが、自然が相手ですので気を引き締めて！良い登山を。やはり、日本一の山です。よく、富士山は登るよりも見る山とも言われますが一度は登頂されるといいと思います。ただ、標高が高いですから初心者がいきなり登っていけるか？と言われると無謀とか無邪気としか思えないですね。それなりの過程さえ踏めばそんなに難しい山ではないですから一度は登ってみてほしいです。ご来光も素晴らしいし、ぜひ、山小屋にも泊まられることをお勧めします。お鉢めぐりも条件がそれえば、是非やってみてください！！言わずとしれた日本一の山。360℃違う顔を持ち、各々の場所からまた違う魅力を出せる力は流石の一言。夏は豪快な山肌が見え、冬は見事な冬化粧。雨の前には笠雲がかかり、悪天候の前触れと言われてみたり縁起がいいと言われてみたり、ただそこにあるだけなのに勝手に話題にされる存在感。『そろそろ噴火してもおかしくない』とも30年以上聞いてきました。頂上付近は実は私有地というのは知らない方が多いと思いますが富士宮市にある富士山本宮浅間大社が持ち主ということになります。そもそもの持ち主徳川家康の山だった時に寄付されたものだというのは地元の人くらいしか知らないかもしれません。登山には昔はお金がかかっていたのも有名な話。そして登山中に気をつけることといえば飲み物を購入するなら下の方で購入しておかないと、5合目でジュース150円、6合目の自動販売機では200円、7合目は300円と値上がり、9合目あたりになると500円くらいにまで跳ね上がりますので注意してください(笑)富士山の逸話を調べ始めるとキリがないですがスポットとしてはとにかくオススメです。\n",
            "<class 'str'>\n"
          ]
        }
      ]
    },
    {
      "cell_type": "markdown",
      "source": [
        "TopicRank"
      ],
      "metadata": {
        "id": "1omn3SNkKDsJ"
      }
    },
    {
      "cell_type": "code",
      "source": [
        "def TopicRank(article):\n",
        "  extractor = pke.unsupervised.TopicRank()\n",
        "#キーフレーズ抽出の extractor（分類機）作成\n",
        "# extractor = pke.unsupervised.TopicRank()\n",
        "\n",
        "\n",
        "#extractor にテキストをロード（article読み込み，日本語）\n",
        "  extractor.load_document(input=article, language='ja',normalization=None)\n",
        "#品詞の指定（ここではなにも指定してない）\n",
        "  extractor.candidate_selection()\n",
        "#トピック分類する際のクラスタリングの結合閾値と距離の計算方法、重み調整のハイパーパラメータの指定（ここではデフォ?）\n",
        "  extractor.candidate_weighting()\n",
        "#キーフレーズ10個抽出\n",
        "  keyphrases = extractor.get_n_best(n=10)\n",
        "  \n",
        "  keyphrases\n",
        "  topic_list = []\n",
        "  for keyphrase in keyphrases:\n",
        "    topic_list.append(keyphrase[0])\n",
        "\n",
        "  return topic_list"
      ],
      "metadata": {
        "id": "T2to1RqFJ-WG"
      },
      "execution_count": 53,
      "outputs": []
    },
    {
      "cell_type": "code",
      "source": [
        "topic_list"
      ],
      "metadata": {
        "colab": {
          "base_uri": "https://localhost:8080/"
        },
        "id": "b47yECtkLurR",
        "outputId": "0f38a1c6-852c-48f8-95fc-1a6e5ad649b6"
      },
      "execution_count": 54,
      "outputs": [
        {
          "output_type": "execute_result",
          "data": {
            "text/plain": [
              "['上着 厚薄',\n",
              " 'ウェア 着用',\n",
              " 'カッパ',\n",
              " 'おにぎり',\n",
              " '休憩 含む',\n",
              " '怖かっ',\n",
              " '大丈夫',\n",
              " 'チョコレート',\n",
              " 'ランニング シューズ',\n",
              " '防寒 対策']"
            ]
          },
          "metadata": {},
          "execution_count": 54
        }
      ]
    },
    {
      "cell_type": "markdown",
      "source": [
        "MultipartiteRank"
      ],
      "metadata": {
        "id": "vqcWoMqBUujk"
      }
    },
    {
      "cell_type": "code",
      "source": [
        "def MultipartiteRank(article):\n",
        "  #キーフレーズ抽出の extractor（分類機）作成\n",
        "  extractor = pke.unsupervised.MultipartiteRank()\n",
        "\n",
        "#extractor にテキストをロード（article読み込み，日本語）\n",
        "  extractor.load_document(input=article, language='ja',normalization=None)\n",
        "#品詞の指定（ここではなにも指定してない）\n",
        "  extractor.candidate_selection()\n",
        "#トピック分類する際のクラスタリングの結合閾値と距離の計算方法、重み調整のハイパーパラメータの指定（ここではデフォ?）\n",
        "  extractor.candidate_weighting()\n",
        "#キーフレーズ10個抽出\n",
        "  keyphrases = extractor.get_n_best(n=10)\n",
        "  \n",
        "  keyphrases\n",
        "  multi_list = []\n",
        "  for keyphrase in keyphrases:\n",
        "    multi_list.append(keyphrase[0])\n",
        "\n",
        "  return multi_list"
      ],
      "metadata": {
        "id": "MdIyog6bUgRW"
      },
      "execution_count": 47,
      "outputs": []
    },
    {
      "cell_type": "code",
      "source": [
        "print(article)"
      ],
      "metadata": {
        "colab": {
          "base_uri": "https://localhost:8080/"
        },
        "id": "humVMAPsVDnD",
        "outputId": "fa6c0cc0-f846-4ba3-89c8-34189f128d64"
      },
      "execution_count": 36,
      "outputs": [
        {
          "output_type": "stream",
          "name": "stdout",
          "text": [
            "富士山パーキングまで車で、そこからは富士急行バスで5合目まで。6時半5合目着。吉田ルート5合目から山頂まで4時間30分でした(休憩含む)。高山病が怖かったですが、前日はしっかりと休息し、適度に休憩を入れれば問題なさそうです。以下は装備ですが、最低限で登りたい方の参考になれば↓ランニングシューズ、スポート系のウェア着用、上着厚薄2着、百均のカッパ、充電器、おにぎり4個、パン2個、スポーツドリンク2.5L、チョコレート、のような感じです。上は10度切りますので防寒対策は万全に、手袋もあった方がいいと思います。水は1.5〜2Lくらいで大丈夫だと思います。ランニングシューズだと結構滑りますので注意を。最低限の準備をすれば登れますが、自然が相手ですので気を引き締めて！良い登山を。やはり、日本一の山です。よく、富士山は登るよりも見る山とも言われますが一度は登頂されるといいと思います。ただ、標高が高いですから初心者がいきなり登っていけるか？と言われると無謀とか無邪気としか思えないですね。それなりの過程さえ踏めばそんなに難しい山ではないですから一度は登ってみてほしいです。ご来光も素晴らしいし、ぜひ、山小屋にも泊まられることをお勧めします。お鉢めぐりも条件がそれえば、是非やってみてください！！言わずとしれた日本一の山。360℃違う顔を持ち、各々の場所からまた違う魅力を出せる力は流石の一言。夏は豪快な山肌が見え、冬は見事な冬化粧。雨の前には笠雲がかかり、悪天候の前触れと言われてみたり縁起がいいと言われてみたり、ただそこにあるだけなのに勝手に話題にされる存在感。『そろそろ噴火してもおかしくない』とも30年以上聞いてきました。頂上付近は実は私有地というのは知らない方が多いと思いますが富士宮市にある富士山本宮浅間大社が持ち主ということになります。そもそもの持ち主徳川家康の山だった時に寄付されたものだというのは地元の人くらいしか知らないかもしれません。登山には昔はお金がかかっていたのも有名な話。そして登山中に気をつけることといえば飲み物を購入するなら下の方で購入しておかないと、5合目でジュース150円、6合目の自動販売機では200円、7合目は300円と値上がり、9合目あたりになると500円くらいにまで跳ね上がりますので注意してください(笑)富士山の逸話を調べ始めるとキリがないですがスポットとしてはとにかくオススメです。\n"
          ]
        }
      ]
    },
    {
      "cell_type": "markdown",
      "source": [
        "PositionRank"
      ],
      "metadata": {
        "id": "dlSKhJLgY40G"
      }
    },
    {
      "cell_type": "code",
      "source": [
        "def PositionRank(article):\n",
        "  #キーフレーズ抽出の extractor（分類機）作成\n",
        "  extractor = pke.unsupervised.PositionRank()\n",
        "\n",
        "#extractor にテキストをロード（article読み込み，日本語）\n",
        "  extractor.load_document(input=article, language='ja',normalization=None)\n",
        "#品詞の指定（ここではなにも指定してない）\n",
        "  extractor.candidate_selection()\n",
        "#トピック分類する際のクラスタリングの結合閾値と距離の計算方法、重み調整のハイパーパラメータの指定（ここではデフォ?）\n",
        "  extractor.candidate_weighting()\n",
        "#キーフレーズ10個抽出\n",
        "  keyphrases = extractor.get_n_best(n=10)\n",
        "  \n",
        "  keyphrases\n",
        "  posi_list = []\n",
        "  for keyphrase in keyphrases:\n",
        "    posi_list.append(keyphrase[0])\n",
        "\n",
        "  return posi_list"
      ],
      "metadata": {
        "id": "-SlH82EsYTaX"
      },
      "execution_count": 48,
      "outputs": []
    },
    {
      "cell_type": "code",
      "source": [
        "\n",
        "#呼び出し\n",
        "def main():\n",
        "  \n",
        "    topic_list = TopicRank(article)\n",
        "    multi_list = MultipartiteRank(article)\n",
        "    posi_list = PositionRank(article)\n",
        "\n",
        "    print(\"TopicRank\", topic_list)\n",
        "    print(\"MultipartiteRank\", multi_list)\n",
        "    print(\"PositionRank\", posi_list)\n",
        "   # print(\"textrank score\", score_textrank)\n",
        "\n",
        "\n",
        "\n",
        "main()\n"
      ],
      "metadata": {
        "colab": {
          "base_uri": "https://localhost:8080/"
        },
        "id": "oe5atnWSZBjV",
        "outputId": "4d9856e5-97b0-41de-a232-834b1dd4f7bd"
      },
      "execution_count": 55,
      "outputs": [
        {
          "output_type": "stream",
          "name": "stdout",
          "text": [
            "TopicRank ['上着 厚薄', 'ウェア 着用', 'カッパ', 'おにぎり', '休憩 含む', '怖かっ', '大丈夫', 'チョコレート', 'ランニング シューズ', '防寒 対策']\n",
            "MultipartiteRank ['上着 厚薄', 'ウェア 着用', 'カッパ', 'おにぎり', '休憩 含む', '怖かっ', '大丈夫', 'チョコレート', 'ランニング シューズ', '防寒 対策']\n",
            "PositionRank ['富士 山 パーキング', '富士 山', '富士 急行 バス', '合 目 着', '合 目 あたり', '山 小屋', '難しい 山', '合 目', '山', '時 半']\n"
          ]
        }
      ]
    },
    {
      "cell_type": "code",
      "source": [],
      "metadata": {
        "id": "HlCKqKCwZ0Ik"
      },
      "execution_count": null,
      "outputs": []
    }
  ]
}